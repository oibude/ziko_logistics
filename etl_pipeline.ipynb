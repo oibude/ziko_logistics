{
 "cells": [
  {
   "cell_type": "markdown",
   "metadata": {},
   "source": [
    "Installing Necessary Packages"
   ]
  },
  {
   "cell_type": "code",
   "execution_count": 8,
   "metadata": {},
   "outputs": [
    {
     "name": "stdout",
     "output_type": "stream",
     "text": [
      "Requirement already satisfied: pyarrow in c:\\users\\hp spectre\\appdata\\local\\programs\\python\\python311\\lib\\site-packages (16.1.0)\n",
      "Requirement already satisfied: numpy>=1.16.6 in c:\\users\\hp spectre\\appdata\\local\\programs\\python\\python311\\lib\\site-packages (from pyarrow) (1.26.4)\n",
      "Requirement already satisfied: azure-storage-blob in c:\\users\\hp spectre\\appdata\\roaming\\python\\python311\\site-packages (12.20.0)\n",
      "Requirement already satisfied: azure-core>=1.28.0 in c:\\users\\hp spectre\\appdata\\roaming\\python\\python311\\site-packages (from azure-storage-blob) (1.30.2)\n",
      "Requirement already satisfied: cryptography>=2.1.4 in c:\\users\\hp spectre\\appdata\\roaming\\python\\python311\\site-packages (from azure-storage-blob) (42.0.8)\n",
      "Requirement already satisfied: typing-extensions>=4.6.0 in c:\\users\\hp spectre\\appdata\\roaming\\python\\python311\\site-packages (from azure-storage-blob) (4.12.1)\n",
      "Requirement already satisfied: isodate>=0.6.1 in c:\\users\\hp spectre\\appdata\\roaming\\python\\python311\\site-packages (from azure-storage-blob) (0.6.1)\n",
      "Requirement already satisfied: requests>=2.21.0 in c:\\users\\hp spectre\\appdata\\roaming\\python\\python311\\site-packages (from azure-core>=1.28.0->azure-storage-blob) (2.32.3)\n",
      "Requirement already satisfied: six>=1.11.0 in c:\\users\\hp spectre\\appdata\\roaming\\python\\python311\\site-packages (from azure-core>=1.28.0->azure-storage-blob) (1.16.0)\n",
      "Requirement already satisfied: cffi>=1.12 in c:\\users\\hp spectre\\appdata\\roaming\\python\\python311\\site-packages (from cryptography>=2.1.4->azure-storage-blob) (1.16.0)\n",
      "Requirement already satisfied: pycparser in c:\\users\\hp spectre\\appdata\\roaming\\python\\python311\\site-packages (from cffi>=1.12->cryptography>=2.1.4->azure-storage-blob) (2.22)\n",
      "Requirement already satisfied: charset-normalizer<4,>=2 in c:\\users\\hp spectre\\appdata\\roaming\\python\\python311\\site-packages (from requests>=2.21.0->azure-core>=1.28.0->azure-storage-blob) (3.3.2)\n",
      "Requirement already satisfied: idna<4,>=2.5 in c:\\users\\hp spectre\\appdata\\roaming\\python\\python311\\site-packages (from requests>=2.21.0->azure-core>=1.28.0->azure-storage-blob) (3.7)\n",
      "Requirement already satisfied: urllib3<3,>=1.21.1 in c:\\users\\hp spectre\\appdata\\roaming\\python\\python311\\site-packages (from requests>=2.21.0->azure-core>=1.28.0->azure-storage-blob) (2.2.1)\n",
      "Requirement already satisfied: certifi>=2017.4.17 in c:\\users\\hp spectre\\appdata\\roaming\\python\\python311\\site-packages (from requests>=2.21.0->azure-core>=1.28.0->azure-storage-blob) (2024.6.2)\n"
     ]
    }
   ],
   "source": [
    "!pip install pyarrow\n",
    "!pip install azure-storage-blob --user"
   ]
  },
  {
   "cell_type": "code",
   "execution_count": 9,
   "metadata": {},
   "outputs": [
    {
     "name": "stdout",
     "output_type": "stream",
     "text": [
      "Requirement already satisfied: python-dotenv in c:\\users\\hp spectre\\appdata\\local\\programs\\python\\python311\\lib\\site-packages (1.0.1)\n"
     ]
    }
   ],
   "source": [
    "!pip install python-dotenv"
   ]
  },
  {
   "cell_type": "code",
   "execution_count": 10,
   "metadata": {},
   "outputs": [
    {
     "name": "stdout",
     "output_type": "stream",
     "text": [
      "Requirement already satisfied: pandas in c:\\users\\hp spectre\\appdata\\local\\programs\\python\\python311\\lib\\site-packages (2.2.2)\n",
      "Requirement already satisfied: numpy>=1.23.2 in c:\\users\\hp spectre\\appdata\\local\\programs\\python\\python311\\lib\\site-packages (from pandas) (1.26.4)\n",
      "Requirement already satisfied: python-dateutil>=2.8.2 in c:\\users\\hp spectre\\appdata\\roaming\\python\\python311\\site-packages (from pandas) (2.9.0.post0)\n",
      "Requirement already satisfied: pytz>=2020.1 in c:\\users\\hp spectre\\appdata\\local\\programs\\python\\python311\\lib\\site-packages (from pandas) (2024.1)\n",
      "Requirement already satisfied: tzdata>=2022.7 in c:\\users\\hp spectre\\appdata\\local\\programs\\python\\python311\\lib\\site-packages (from pandas) (2024.1)\n",
      "Requirement already satisfied: six>=1.5 in c:\\users\\hp spectre\\appdata\\roaming\\python\\python311\\site-packages (from python-dateutil>=2.8.2->pandas) (1.16.0)\n",
      "Note: you may need to restart the kernel to use updated packages.\n"
     ]
    }
   ],
   "source": [
    "pip install pandas"
   ]
  },
  {
   "cell_type": "markdown",
   "metadata": {},
   "source": [
    "##### Import Libraries\n"
   ]
  },
  {
   "cell_type": "code",
   "execution_count": 11,
   "metadata": {},
   "outputs": [],
   "source": [
    "import pandas as pd\n",
    "import io\n",
    "import os\n",
    "from azure.storage.blob import BlobServiceClient, BlobClient\n",
    "from dotenv import load_dotenv"
   ]
  },
  {
   "cell_type": "code",
   "execution_count": 12,
   "metadata": {},
   "outputs": [],
   "source": [
    "# Extract file\n",
    "ziko_df= pd.read_csv(r'C:\\Users\\HP SPECTRE\\Documents\\Data Journey\\10Alytics\\ETL_Orchestration\\ziko_logistics_project\\ziko_logistics\\ziko_logistics_data.csv')"
   ]
  },
  {
   "cell_type": "code",
   "execution_count": 13,
   "metadata": {},
   "outputs": [
    {
     "data": {
      "text/html": [
       "<div>\n",
       "<style scoped>\n",
       "    .dataframe tbody tr th:only-of-type {\n",
       "        vertical-align: middle;\n",
       "    }\n",
       "\n",
       "    .dataframe tbody tr th {\n",
       "        vertical-align: top;\n",
       "    }\n",
       "\n",
       "    .dataframe thead th {\n",
       "        text-align: right;\n",
       "    }\n",
       "</style>\n",
       "<table border=\"1\" class=\"dataframe\">\n",
       "  <thead>\n",
       "    <tr style=\"text-align: right;\">\n",
       "      <th></th>\n",
       "      <th>Transaction_ID</th>\n",
       "      <th>Date</th>\n",
       "      <th>Customer_ID</th>\n",
       "      <th>Product_ID</th>\n",
       "      <th>Quantity</th>\n",
       "      <th>Unit_Price</th>\n",
       "      <th>Total_Cost</th>\n",
       "      <th>Discount_Rate</th>\n",
       "      <th>Sales_Channel</th>\n",
       "      <th>Order_Priority</th>\n",
       "      <th>...</th>\n",
       "      <th>Return_Reason</th>\n",
       "      <th>Payment_Type</th>\n",
       "      <th>Taxable</th>\n",
       "      <th>Region</th>\n",
       "      <th>Country</th>\n",
       "      <th>Customer_Name</th>\n",
       "      <th>Customer_Phone</th>\n",
       "      <th>Customer_Email</th>\n",
       "      <th>Customer_Address</th>\n",
       "      <th>Product_List_Title</th>\n",
       "    </tr>\n",
       "  </thead>\n",
       "  <tbody>\n",
       "    <tr>\n",
       "      <th>0</th>\n",
       "      <td>200</td>\n",
       "      <td>2020-01-01 20:32:25.945945945</td>\n",
       "      <td>1086</td>\n",
       "      <td>536</td>\n",
       "      <td>3</td>\n",
       "      <td>120.436821</td>\n",
       "      <td>8265.374549</td>\n",
       "      <td>0.20</td>\n",
       "      <td>Online</td>\n",
       "      <td>High</td>\n",
       "      <td>...</td>\n",
       "      <td>Wrong Item</td>\n",
       "      <td>Wire Transfer</td>\n",
       "      <td>False</td>\n",
       "      <td>West</td>\n",
       "      <td>Canada</td>\n",
       "      <td>Customer 200</td>\n",
       "      <td>+1-652-572-9306</td>\n",
       "      <td>customer.200.78@example.com</td>\n",
       "      <td>275 Second St, Phoenix, USA</td>\n",
       "      <td>Product 53</td>\n",
       "    </tr>\n",
       "    <tr>\n",
       "      <th>1</th>\n",
       "      <td>321</td>\n",
       "      <td>2020-01-02 06:55:08.108108108</td>\n",
       "      <td>1078</td>\n",
       "      <td>523</td>\n",
       "      <td>6</td>\n",
       "      <td>475.724994</td>\n",
       "      <td>4047.850479</td>\n",
       "      <td>NaN</td>\n",
       "      <td>Reseller</td>\n",
       "      <td>Critical</td>\n",
       "      <td>...</td>\n",
       "      <td>Damaged</td>\n",
       "      <td>PayPal</td>\n",
       "      <td>True</td>\n",
       "      <td>South</td>\n",
       "      <td>Mexico</td>\n",
       "      <td>Customer 321</td>\n",
       "      <td>+1-311-186-5760</td>\n",
       "      <td>customer.321.13@sample.com</td>\n",
       "      <td>478 Third St, New York, USA</td>\n",
       "      <td>Product 33</td>\n",
       "    </tr>\n",
       "    <tr>\n",
       "      <th>2</th>\n",
       "      <td>989</td>\n",
       "      <td>2020-01-06 08:12:58.378378378</td>\n",
       "      <td>1077</td>\n",
       "      <td>535</td>\n",
       "      <td>3</td>\n",
       "      <td>146.400556</td>\n",
       "      <td>NaN</td>\n",
       "      <td>0.05</td>\n",
       "      <td>Direct</td>\n",
       "      <td>Critical</td>\n",
       "      <td>...</td>\n",
       "      <td>Damaged</td>\n",
       "      <td>PayPal</td>\n",
       "      <td>True</td>\n",
       "      <td>West</td>\n",
       "      <td>Canada</td>\n",
       "      <td>Customer 989</td>\n",
       "      <td>+1-922-606-9032</td>\n",
       "      <td>customer.989.99@example.com</td>\n",
       "      <td>843 Second St, Phoenix, USA</td>\n",
       "      <td>Product 6</td>\n",
       "    </tr>\n",
       "    <tr>\n",
       "      <th>3</th>\n",
       "      <td>682</td>\n",
       "      <td>2020-01-07 22:03:14.594594594</td>\n",
       "      <td>1027</td>\n",
       "      <td>546</td>\n",
       "      <td>6</td>\n",
       "      <td>19.373194</td>\n",
       "      <td>8194.281993</td>\n",
       "      <td>NaN</td>\n",
       "      <td>Reseller</td>\n",
       "      <td>Medium</td>\n",
       "      <td>...</td>\n",
       "      <td>Wrong Item</td>\n",
       "      <td>Cash</td>\n",
       "      <td>True</td>\n",
       "      <td>South</td>\n",
       "      <td>Canada</td>\n",
       "      <td>Customer 682</td>\n",
       "      <td>+1-237-853-5808</td>\n",
       "      <td>customer.682.66@demo.com</td>\n",
       "      <td>153 Main St, Phoenix, USA</td>\n",
       "      <td>Product 68</td>\n",
       "    </tr>\n",
       "    <tr>\n",
       "      <th>4</th>\n",
       "      <td>484</td>\n",
       "      <td>2020-01-07 07:08:06.486486486</td>\n",
       "      <td>1052</td>\n",
       "      <td>556</td>\n",
       "      <td>8</td>\n",
       "      <td>193.221313</td>\n",
       "      <td>8331.329249</td>\n",
       "      <td>0.20</td>\n",
       "      <td>Direct</td>\n",
       "      <td>Low</td>\n",
       "      <td>...</td>\n",
       "      <td>Late</td>\n",
       "      <td>Cash</td>\n",
       "      <td>False</td>\n",
       "      <td>South</td>\n",
       "      <td>Mexico</td>\n",
       "      <td>Customer 484</td>\n",
       "      <td>+1-986-360-9109</td>\n",
       "      <td>customer.484.3@sample.com</td>\n",
       "      <td>264 Second St, New York, USA</td>\n",
       "      <td>Product 89</td>\n",
       "    </tr>\n",
       "  </tbody>\n",
       "</table>\n",
       "<p>5 rows × 25 columns</p>\n",
       "</div>"
      ],
      "text/plain": [
       "   Transaction_ID                           Date  Customer_ID  Product_ID  \\\n",
       "0             200  2020-01-01 20:32:25.945945945         1086         536   \n",
       "1             321  2020-01-02 06:55:08.108108108         1078         523   \n",
       "2             989  2020-01-06 08:12:58.378378378         1077         535   \n",
       "3             682  2020-01-07 22:03:14.594594594         1027         546   \n",
       "4             484  2020-01-07 07:08:06.486486486         1052         556   \n",
       "\n",
       "   Quantity  Unit_Price   Total_Cost  Discount_Rate Sales_Channel  \\\n",
       "0         3  120.436821  8265.374549           0.20        Online   \n",
       "1         6  475.724994  4047.850479            NaN      Reseller   \n",
       "2         3  146.400556          NaN           0.05        Direct   \n",
       "3         6   19.373194  8194.281993            NaN      Reseller   \n",
       "4         8  193.221313  8331.329249           0.20        Direct   \n",
       "\n",
       "  Order_Priority  ... Return_Reason   Payment_Type Taxable Region  Country  \\\n",
       "0           High  ...    Wrong Item  Wire Transfer   False   West   Canada   \n",
       "1       Critical  ...       Damaged         PayPal    True  South   Mexico   \n",
       "2       Critical  ...       Damaged         PayPal    True   West   Canada   \n",
       "3         Medium  ...    Wrong Item           Cash    True  South   Canada   \n",
       "4            Low  ...          Late           Cash   False  South   Mexico   \n",
       "\n",
       "  Customer_Name   Customer_Phone               Customer_Email  \\\n",
       "0  Customer 200  +1-652-572-9306  customer.200.78@example.com   \n",
       "1  Customer 321  +1-311-186-5760   customer.321.13@sample.com   \n",
       "2  Customer 989  +1-922-606-9032  customer.989.99@example.com   \n",
       "3  Customer 682  +1-237-853-5808     customer.682.66@demo.com   \n",
       "4  Customer 484  +1-986-360-9109    customer.484.3@sample.com   \n",
       "\n",
       "               Customer_Address Product_List_Title  \n",
       "0   275 Second St, Phoenix, USA         Product 53  \n",
       "1   478 Third St, New York, USA         Product 33  \n",
       "2   843 Second St, Phoenix, USA          Product 6  \n",
       "3     153 Main St, Phoenix, USA         Product 68  \n",
       "4  264 Second St, New York, USA         Product 89  \n",
       "\n",
       "[5 rows x 25 columns]"
      ]
     },
     "execution_count": 13,
     "metadata": {},
     "output_type": "execute_result"
    }
   ],
   "source": [
    "ziko_df.head()"
   ]
  },
  {
   "cell_type": "code",
   "execution_count": 14,
   "metadata": {},
   "outputs": [
    {
     "name": "stdout",
     "output_type": "stream",
     "text": [
      "<class 'pandas.core.frame.DataFrame'>\n",
      "RangeIndex: 1005 entries, 0 to 1004\n",
      "Data columns (total 25 columns):\n",
      " #   Column                 Non-Null Count  Dtype  \n",
      "---  ------                 --------------  -----  \n",
      " 0   Transaction_ID         1005 non-null   int64  \n",
      " 1   Date                   1005 non-null   object \n",
      " 2   Customer_ID            1005 non-null   int64  \n",
      " 3   Product_ID             1005 non-null   int64  \n",
      " 4   Quantity               1005 non-null   int64  \n",
      " 5   Unit_Price             904 non-null    float64\n",
      " 6   Total_Cost             905 non-null    float64\n",
      " 7   Discount_Rate          714 non-null    float64\n",
      " 8   Sales_Channel          1005 non-null   object \n",
      " 9   Order_Priority         1005 non-null   object \n",
      " 10  Warehouse_Code         1005 non-null   object \n",
      " 11  Ship_Mode              1005 non-null   object \n",
      " 12  Delivery_Status        1005 non-null   object \n",
      " 13  Customer_Satisfaction  1005 non-null   object \n",
      " 14  Item_Returned          1005 non-null   bool   \n",
      " 15  Return_Reason          904 non-null    object \n",
      " 16  Payment_Type           1005 non-null   object \n",
      " 17  Taxable                1005 non-null   bool   \n",
      " 18  Region                 1005 non-null   object \n",
      " 19  Country                1005 non-null   object \n",
      " 20  Customer_Name          1005 non-null   object \n",
      " 21  Customer_Phone         1005 non-null   object \n",
      " 22  Customer_Email         1005 non-null   object \n",
      " 23  Customer_Address       1005 non-null   object \n",
      " 24  Product_List_Title     1005 non-null   object \n",
      "dtypes: bool(2), float64(3), int64(4), object(16)\n",
      "memory usage: 182.7+ KB\n"
     ]
    }
   ],
   "source": [
    "ziko_df.info()"
   ]
  },
  {
   "cell_type": "code",
   "execution_count": 15,
   "metadata": {},
   "outputs": [
    {
     "data": {
      "text/plain": [
       "Index(['Transaction_ID', 'Date', 'Customer_ID', 'Product_ID', 'Quantity',\n",
       "       'Unit_Price', 'Total_Cost', 'Discount_Rate', 'Sales_Channel',\n",
       "       'Order_Priority', 'Warehouse_Code', 'Ship_Mode', 'Delivery_Status',\n",
       "       'Customer_Satisfaction', 'Item_Returned', 'Return_Reason',\n",
       "       'Payment_Type', 'Taxable', 'Region', 'Country', 'Customer_Name',\n",
       "       'Customer_Phone', 'Customer_Email', 'Customer_Address',\n",
       "       'Product_List_Title'],\n",
       "      dtype='object')"
      ]
     },
     "execution_count": 15,
     "metadata": {},
     "output_type": "execute_result"
    }
   ],
   "source": [
    "ziko_df.columns"
   ]
  },
  {
   "cell_type": "code",
   "execution_count": 19,
   "metadata": {},
   "outputs": [],
   "source": [
    "#Correcting the date format\n",
    "ziko_df['Date']=ziko_df['Date'].astype('datetime64[ns]')"
   ]
  },
  {
   "cell_type": "code",
   "execution_count": 18,
   "metadata": {},
   "outputs": [
    {
     "name": "stdout",
     "output_type": "stream",
     "text": [
      "<class 'pandas.core.frame.DataFrame'>\n",
      "RangeIndex: 1005 entries, 0 to 1004\n",
      "Data columns (total 25 columns):\n",
      " #   Column                 Non-Null Count  Dtype  \n",
      "---  ------                 --------------  -----  \n",
      " 0   Transaction_ID         1005 non-null   int64  \n",
      " 1   Date                   1005 non-null   object \n",
      " 2   Customer_ID            1005 non-null   int64  \n",
      " 3   Product_ID             1005 non-null   int64  \n",
      " 4   Quantity               1005 non-null   int64  \n",
      " 5   Unit_Price             904 non-null    float64\n",
      " 6   Total_Cost             905 non-null    float64\n",
      " 7   Discount_Rate          714 non-null    float64\n",
      " 8   Sales_Channel          1005 non-null   object \n",
      " 9   Order_Priority         1005 non-null   object \n",
      " 10  Warehouse_Code         1005 non-null   object \n",
      " 11  Ship_Mode              1005 non-null   object \n",
      " 12  Delivery_Status        1005 non-null   object \n",
      " 13  Customer_Satisfaction  1005 non-null   object \n",
      " 14  Item_Returned          1005 non-null   bool   \n",
      " 15  Return_Reason          904 non-null    object \n",
      " 16  Payment_Type           1005 non-null   object \n",
      " 17  Taxable                1005 non-null   bool   \n",
      " 18  Region                 1005 non-null   object \n",
      " 19  Country                1005 non-null   object \n",
      " 20  Customer_Name          1005 non-null   object \n",
      " 21  Customer_Phone         1005 non-null   object \n",
      " 22  Customer_Email         1005 non-null   object \n",
      " 23  Customer_Address       1005 non-null   object \n",
      " 24  Product_List_Title     1005 non-null   object \n",
      "dtypes: bool(2), float64(3), int64(4), object(16)\n",
      "memory usage: 182.7+ KB\n"
     ]
    }
   ],
   "source": [
    "ziko_df.info()"
   ]
  },
  {
   "cell_type": "markdown",
   "metadata": {},
   "source": [
    "##### Data Cleaning and Transformation"
   ]
  },
  {
   "cell_type": "code",
   "execution_count": 20,
   "metadata": {},
   "outputs": [],
   "source": [
    "ziko_df.fillna({\n",
    "                        'Unit_Price': ziko_df['Unit_Price'].mean(),\n",
    "                        'Total_Cost': ziko_df['Total_Cost'].mean(),\n",
    "                        'Discount_Rate': 0.0,\n",
    "                        'Return_Reason': 'unknown'}, inplace=True)"
   ]
  },
  {
   "cell_type": "code",
   "execution_count": 21,
   "metadata": {},
   "outputs": [],
   "source": [
    "#Customer Table\n",
    "customer= ziko_df[['Customer_ID','Customer_Name', 'Customer_Phone', 'Customer_Email','Customer_Address']].copy().drop_duplicates().reset_index(drop=True)"
   ]
  },
  {
   "cell_type": "code",
   "execution_count": 22,
   "metadata": {},
   "outputs": [
    {
     "data": {
      "text/html": [
       "<div>\n",
       "<style scoped>\n",
       "    .dataframe tbody tr th:only-of-type {\n",
       "        vertical-align: middle;\n",
       "    }\n",
       "\n",
       "    .dataframe tbody tr th {\n",
       "        vertical-align: top;\n",
       "    }\n",
       "\n",
       "    .dataframe thead th {\n",
       "        text-align: right;\n",
       "    }\n",
       "</style>\n",
       "<table border=\"1\" class=\"dataframe\">\n",
       "  <thead>\n",
       "    <tr style=\"text-align: right;\">\n",
       "      <th></th>\n",
       "      <th>Product_ID</th>\n",
       "      <th>Product_List_Title</th>\n",
       "      <th>Quantity</th>\n",
       "      <th>Unit_Price</th>\n",
       "      <th>Discount_Rate</th>\n",
       "    </tr>\n",
       "  </thead>\n",
       "  <tbody>\n",
       "    <tr>\n",
       "      <th>0</th>\n",
       "      <td>536</td>\n",
       "      <td>Product 53</td>\n",
       "      <td>3</td>\n",
       "      <td>120.436821</td>\n",
       "      <td>0.20</td>\n",
       "    </tr>\n",
       "    <tr>\n",
       "      <th>1</th>\n",
       "      <td>523</td>\n",
       "      <td>Product 33</td>\n",
       "      <td>6</td>\n",
       "      <td>475.724994</td>\n",
       "      <td>0.00</td>\n",
       "    </tr>\n",
       "    <tr>\n",
       "      <th>2</th>\n",
       "      <td>535</td>\n",
       "      <td>Product 6</td>\n",
       "      <td>3</td>\n",
       "      <td>146.400556</td>\n",
       "      <td>0.05</td>\n",
       "    </tr>\n",
       "    <tr>\n",
       "      <th>3</th>\n",
       "      <td>546</td>\n",
       "      <td>Product 68</td>\n",
       "      <td>6</td>\n",
       "      <td>19.373194</td>\n",
       "      <td>0.00</td>\n",
       "    </tr>\n",
       "    <tr>\n",
       "      <th>4</th>\n",
       "      <td>556</td>\n",
       "      <td>Product 89</td>\n",
       "      <td>8</td>\n",
       "      <td>193.221313</td>\n",
       "      <td>0.20</td>\n",
       "    </tr>\n",
       "  </tbody>\n",
       "</table>\n",
       "</div>"
      ],
      "text/plain": [
       "   Product_ID Product_List_Title  Quantity  Unit_Price  Discount_Rate\n",
       "0         536         Product 53         3  120.436821           0.20\n",
       "1         523         Product 33         6  475.724994           0.00\n",
       "2         535          Product 6         3  146.400556           0.05\n",
       "3         546         Product 68         6   19.373194           0.00\n",
       "4         556         Product 89         8  193.221313           0.20"
      ]
     },
     "execution_count": 22,
     "metadata": {},
     "output_type": "execute_result"
    }
   ],
   "source": [
    "#Product Table\n",
    "product= ziko_df[['Product_ID', 'Product_List_Title', 'Quantity', 'Unit_Price', 'Discount_Rate']].copy().drop_duplicates().reset_index(drop=True)\n",
    "product.head()"
   ]
  },
  {
   "cell_type": "code",
   "execution_count": 23,
   "metadata": {},
   "outputs": [
    {
     "data": {
      "text/html": [
       "<div>\n",
       "<style scoped>\n",
       "    .dataframe tbody tr th:only-of-type {\n",
       "        vertical-align: middle;\n",
       "    }\n",
       "\n",
       "    .dataframe tbody tr th {\n",
       "        vertical-align: top;\n",
       "    }\n",
       "\n",
       "    .dataframe thead th {\n",
       "        text-align: right;\n",
       "    }\n",
       "</style>\n",
       "<table border=\"1\" class=\"dataframe\">\n",
       "  <thead>\n",
       "    <tr style=\"text-align: right;\">\n",
       "      <th></th>\n",
       "      <th>Transaction_ID</th>\n",
       "      <th>Customer_ID</th>\n",
       "      <th>Product_ID</th>\n",
       "      <th>Sales_Channel</th>\n",
       "      <th>Order_Priority</th>\n",
       "      <th>Warehouse_Code</th>\n",
       "      <th>Ship_Mode</th>\n",
       "      <th>Delivery_Status</th>\n",
       "      <th>Customer_Satisfaction</th>\n",
       "      <th>Item_Returned</th>\n",
       "      <th>Return_Reason</th>\n",
       "      <th>Payment_Type</th>\n",
       "      <th>Taxable</th>\n",
       "      <th>Region</th>\n",
       "      <th>Country</th>\n",
       "    </tr>\n",
       "  </thead>\n",
       "  <tbody>\n",
       "    <tr>\n",
       "      <th>0</th>\n",
       "      <td>200</td>\n",
       "      <td>1086</td>\n",
       "      <td>536</td>\n",
       "      <td>Online</td>\n",
       "      <td>High</td>\n",
       "      <td>WH-3</td>\n",
       "      <td>2-Day</td>\n",
       "      <td>Cancelled</td>\n",
       "      <td>Neutral</td>\n",
       "      <td>False</td>\n",
       "      <td>Wrong Item</td>\n",
       "      <td>Wire Transfer</td>\n",
       "      <td>False</td>\n",
       "      <td>West</td>\n",
       "      <td>Canada</td>\n",
       "    </tr>\n",
       "    <tr>\n",
       "      <th>1</th>\n",
       "      <td>321</td>\n",
       "      <td>1078</td>\n",
       "      <td>523</td>\n",
       "      <td>Reseller</td>\n",
       "      <td>Critical</td>\n",
       "      <td>WH-1</td>\n",
       "      <td>Overnight</td>\n",
       "      <td>Backorder</td>\n",
       "      <td>Satisfied</td>\n",
       "      <td>True</td>\n",
       "      <td>Damaged</td>\n",
       "      <td>PayPal</td>\n",
       "      <td>True</td>\n",
       "      <td>South</td>\n",
       "      <td>Mexico</td>\n",
       "    </tr>\n",
       "    <tr>\n",
       "      <th>2</th>\n",
       "      <td>989</td>\n",
       "      <td>1077</td>\n",
       "      <td>535</td>\n",
       "      <td>Direct</td>\n",
       "      <td>Critical</td>\n",
       "      <td>WH-1</td>\n",
       "      <td>Overnight</td>\n",
       "      <td>Pending</td>\n",
       "      <td>Unsatisfied</td>\n",
       "      <td>True</td>\n",
       "      <td>Damaged</td>\n",
       "      <td>PayPal</td>\n",
       "      <td>True</td>\n",
       "      <td>West</td>\n",
       "      <td>Canada</td>\n",
       "    </tr>\n",
       "    <tr>\n",
       "      <th>3</th>\n",
       "      <td>682</td>\n",
       "      <td>1027</td>\n",
       "      <td>546</td>\n",
       "      <td>Reseller</td>\n",
       "      <td>Medium</td>\n",
       "      <td>WH-1</td>\n",
       "      <td>Express</td>\n",
       "      <td>Pending</td>\n",
       "      <td>Unsatisfied</td>\n",
       "      <td>False</td>\n",
       "      <td>Wrong Item</td>\n",
       "      <td>Cash</td>\n",
       "      <td>True</td>\n",
       "      <td>South</td>\n",
       "      <td>Canada</td>\n",
       "    </tr>\n",
       "    <tr>\n",
       "      <th>4</th>\n",
       "      <td>484</td>\n",
       "      <td>1052</td>\n",
       "      <td>556</td>\n",
       "      <td>Direct</td>\n",
       "      <td>Low</td>\n",
       "      <td>WH-2</td>\n",
       "      <td>2-Day</td>\n",
       "      <td>Delivered</td>\n",
       "      <td>Satisfied</td>\n",
       "      <td>True</td>\n",
       "      <td>Late</td>\n",
       "      <td>Cash</td>\n",
       "      <td>False</td>\n",
       "      <td>South</td>\n",
       "      <td>Mexico</td>\n",
       "    </tr>\n",
       "  </tbody>\n",
       "</table>\n",
       "</div>"
      ],
      "text/plain": [
       "   Transaction_ID  Customer_ID  Product_ID Sales_Channel Order_Priority  \\\n",
       "0             200         1086         536        Online           High   \n",
       "1             321         1078         523      Reseller       Critical   \n",
       "2             989         1077         535        Direct       Critical   \n",
       "3             682         1027         546      Reseller         Medium   \n",
       "4             484         1052         556        Direct            Low   \n",
       "\n",
       "  Warehouse_Code  Ship_Mode Delivery_Status Customer_Satisfaction  \\\n",
       "0           WH-3      2-Day       Cancelled               Neutral   \n",
       "1           WH-1  Overnight       Backorder             Satisfied   \n",
       "2           WH-1  Overnight         Pending           Unsatisfied   \n",
       "3           WH-1    Express         Pending           Unsatisfied   \n",
       "4           WH-2      2-Day       Delivered             Satisfied   \n",
       "\n",
       "   Item_Returned Return_Reason   Payment_Type  Taxable Region Country  \n",
       "0          False    Wrong Item  Wire Transfer    False   West  Canada  \n",
       "1           True       Damaged         PayPal     True  South  Mexico  \n",
       "2           True       Damaged         PayPal     True   West  Canada  \n",
       "3          False    Wrong Item           Cash     True  South  Canada  \n",
       "4           True          Late           Cash    False  South  Mexico  "
      ]
     },
     "execution_count": 23,
     "metadata": {},
     "output_type": "execute_result"
    }
   ],
   "source": [
    "#Trasaction Fact table\n",
    "\n",
    "transaction_fact= ziko_df.merge(customer, on= ['Customer_ID','Customer_Name', 'Customer_Phone', 'Customer_Email','Customer_Address'], how= 'left')\\\n",
    "                        .merge(product, on= ['Product_ID', 'Product_List_Title', 'Quantity', 'Unit_Price', 'Discount_Rate'], how='left')\\\n",
    "                        [['Transaction_ID', 'Customer_ID', 'Product_ID', 'Sales_Channel','Order_Priority', 'Warehouse_Code', 'Ship_Mode', 'Delivery_Status',\n",
    "                          'Customer_Satisfaction', 'Item_Returned', 'Return_Reason','Payment_Type', 'Taxable', 'Region', 'Country',]]\n",
    "\n",
    "transaction_fact.head()"
   ]
  },
  {
   "cell_type": "code",
   "execution_count": 24,
   "metadata": {},
   "outputs": [],
   "source": [
    "#Load into csv files\n",
    "customer.to_csv(r'datasets\\customer.csv', index=False)\n",
    "product.to_csv(r'datasets\\product.csv')\n",
    "transaction_fact.to_csv(r'datasets\\transaction_fact.csv', index=False)"
   ]
  },
  {
   "cell_type": "markdown",
   "metadata": {},
   "source": [
    "##### Data Loading and Azure Connection"
   ]
  },
  {
   "cell_type": "code",
   "execution_count": 25,
   "metadata": {},
   "outputs": [],
   "source": [
    "#Data load\n",
    "#Azure connection\n",
    "load_dotenv()\n",
    "\n",
    "connect_str= os.getenv('CONNECT_STR')\n",
    "blob_service_client= BlobServiceClient.from_connection_string(connect_str)\n",
    "\n",
    "container_name=os.getenv('CONTAINER_NAME')\n",
    "container_client= blob_service_client.get_container_client(container_name)"
   ]
  },
  {
   "cell_type": "code",
   "execution_count": 26,
   "metadata": {},
   "outputs": [],
   "source": [
    "# Create afunction that would load the data into azure blob storage as a parquet file\n",
    "\n",
    "def upload_df_to_blob_as_parquet(df, container_client, blob_name):\n",
    "    buffer = io.BytesIO()\n",
    "    df.to_parquet(buffer, index=False)\n",
    "    buffer.seek(0)\n",
    "    blob_client= container_client.get_blob_client(blob_name)\n",
    "    blob_client.upload_blob(buffer, blob_type= \"BlockBlob\", overwrite=True)\n",
    "    print(f'{blob_name} uploaded to Blob storage sucessfully')"
   ]
  },
  {
   "cell_type": "code",
   "execution_count": 27,
   "metadata": {},
   "outputs": [
    {
     "name": "stdout",
     "output_type": "stream",
     "text": [
      "rawdata/customer.parquet uploaded to Blob storage sucessfully\n",
      "rawdata/product.parquet uploaded to Blob storage sucessfully\n",
      "rawdata/transaction_fact.parquet uploaded to Blob storage sucessfully\n"
     ]
    }
   ],
   "source": [
    "upload_df_to_blob_as_parquet(customer, container_client, 'rawdata/customer.parquet')\n",
    "upload_df_to_blob_as_parquet(product, container_client, 'rawdata/product.parquet')\n",
    "upload_df_to_blob_as_parquet(transaction_fact, container_client, 'rawdata/transaction_fact.parquet')"
   ]
  }
 ],
 "metadata": {
  "kernelspec": {
   "display_name": "base",
   "language": "python",
   "name": "python3"
  },
  "language_info": {
   "codemirror_mode": {
    "name": "ipython",
    "version": 3
   },
   "file_extension": ".py",
   "mimetype": "text/x-python",
   "name": "python",
   "nbconvert_exporter": "python",
   "pygments_lexer": "ipython3",
   "version": "3.11.9"
  }
 },
 "nbformat": 4,
 "nbformat_minor": 2
}
